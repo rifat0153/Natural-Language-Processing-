{
  "nbformat": 4,
  "nbformat_minor": 0,
  "metadata": {
    "accelerator": "GPU",
    "colab": {
      "name": "Copy of Course 3 - Week 2 - Exercise - Question.ipynb",
      "provenance": [],
      "collapsed_sections": []
    },
    "kernelspec": {
      "name": "python3",
      "display_name": "Python 3"
    }
  },
  "cells": [
    {
      "cell_type": "code",
      "metadata": {
        "colab_type": "code",
        "id": "gnwiOnGyW5JK",
        "colab": {
          "base_uri": "https://localhost:8080/",
          "height": 204
        },
        "outputId": "ae1808fd-9f78-4c32-a4ac-8be422ccd361"
      },
      "source": [
        "import csv\n",
        "import tensorflow as tf\n",
        "import numpy as np\n",
        "from tensorflow.keras.preprocessing.text import Tokenizer\n",
        "from tensorflow.keras.preprocessing.sequence import pad_sequences\n",
        "\n",
        "!wget --no-check-certificate \\\n",
        "    https://storage.googleapis.com/laurencemoroney-blog.appspot.com/bbc-text.csv \\\n",
        "    -O /tmp/bbc-text.csv"
      ],
      "execution_count": 1,
      "outputs": [
        {
          "output_type": "stream",
          "text": [
            "--2020-04-06 03:02:53--  https://storage.googleapis.com/laurencemoroney-blog.appspot.com/bbc-text.csv\n",
            "Resolving storage.googleapis.com (storage.googleapis.com)... 216.58.192.80, 2607:f8b0:4007:803::2010\n",
            "Connecting to storage.googleapis.com (storage.googleapis.com)|216.58.192.80|:443... connected.\n",
            "HTTP request sent, awaiting response... 200 OK\n",
            "Length: 5057493 (4.8M) [application/octet-stream]\n",
            "Saving to: ‘/tmp/bbc-text.csv’\n",
            "\n",
            "\r/tmp/bbc-text.csv     0%[                    ]       0  --.-KB/s               \r/tmp/bbc-text.csv   100%[===================>]   4.82M  --.-KB/s    in 0.07s   \n",
            "\n",
            "2020-04-06 03:02:54 (70.0 MB/s) - ‘/tmp/bbc-text.csv’ saved [5057493/5057493]\n",
            "\n"
          ],
          "name": "stdout"
        }
      ]
    },
    {
      "cell_type": "code",
      "metadata": {
        "colab_type": "code",
        "id": "EYo6A4v5ZABQ",
        "colab": {}
      },
      "source": [
        "vocab_size = 10000\n",
        "embedding_dim = 16\n",
        "max_length = 120\n",
        "trunc_type = 'post'\n",
        "padding_type = 'post'\n",
        "oov_tok = \"<OOV>\"\n",
        "training_portion = .8"
      ],
      "execution_count": 0,
      "outputs": []
    },
    {
      "cell_type": "code",
      "metadata": {
        "colab_type": "code",
        "id": "iU1qq3_SZBx_",
        "colab": {
          "base_uri": "https://localhost:8080/",
          "height": 34
        },
        "outputId": "98ff1fb5-7328-4cd1-99d2-099fae0a0076"
      },
      "source": [
        "sentences = []\n",
        "labels = []\n",
        "stopwords = [ \"a\", \"about\", \"above\", \"after\", \"again\", \"against\", \"all\", \"am\", \"an\", \"and\", \"any\", \"are\", \"as\", \"at\", \"be\", \"because\", \"been\", \"before\", \"being\", \"below\", \"between\", \"both\", \"but\", \"by\", \"could\", \"did\", \"do\", \"does\", \"doing\", \"down\", \"during\", \"each\", \"few\", \"for\", \"from\", \"further\", \"had\", \"has\", \"have\", \"having\", \"he\", \"he'd\", \"he'll\", \"he's\", \"her\", \"here\", \"here's\", \"hers\", \"herself\", \"him\", \"himself\", \"his\", \"how\", \"how's\", \"i\", \"i'd\", \"i'll\", \"i'm\", \"i've\", \"if\", \"in\", \"into\", \"is\", \"it\", \"it's\", \"its\", \"itself\", \"let's\", \"me\", \"more\", \"most\", \"my\", \"myself\", \"nor\", \"of\", \"on\", \"once\", \"only\", \"or\", \"other\", \"ought\", \"our\", \"ours\", \"ourselves\", \"out\", \"over\", \"own\", \"same\", \"she\", \"she'd\", \"she'll\", \"she's\", \"should\", \"so\", \"some\", \"such\", \"than\", \"that\", \"that's\", \"the\", \"their\", \"theirs\", \"them\", \"themselves\", \"then\", \"there\", \"there's\", \"these\", \"they\", \"they'd\", \"they'll\", \"they're\", \"they've\", \"this\", \"those\", \"through\", \"to\", \"too\", \"under\", \"until\", \"up\", \"very\", \"was\", \"we\", \"we'd\", \"we'll\", \"we're\", \"we've\", \"were\", \"what\", \"what's\", \"when\", \"when's\", \"where\", \"where's\", \"which\", \"while\", \"who\", \"who's\", \"whom\", \"why\", \"why's\", \"with\", \"would\", \"you\", \"you'd\", \"you'll\", \"you're\", \"you've\", \"your\", \"yours\", \"yourself\", \"yourselves\" ]\n",
        "print(len(stopwords))\n",
        "# Expected Output\n",
        "# 153"
      ],
      "execution_count": 3,
      "outputs": [
        {
          "output_type": "stream",
          "text": [
            "153\n"
          ],
          "name": "stdout"
        }
      ]
    },
    {
      "cell_type": "code",
      "metadata": {
        "colab_type": "code",
        "id": "eutB2xMiZD0e",
        "colab": {
          "base_uri": "https://localhost:8080/",
          "height": 88
        },
        "outputId": "2116c648-a2b4-46ec-a671-e939d051fde5"
      },
      "source": [
        "with open(\"/tmp/bbc-text.csv\", 'r') as csvfile:\n",
        "    # YOUR CODE HERE\n",
        "    next(csvfile)\n",
        "    row = csvfile.readline().rstrip('\\n')\n",
        "\n",
        "    counter = 0\n",
        "    while row:\n",
        "      \n",
        "      # if( counter==200 ):\n",
        "      #   break\n",
        "\n",
        "      items = row.split(\",\")\n",
        "\n",
        "      sss = items[1]\n",
        "      ss = sss.split(\" \")\n",
        "\n",
        "      s = []\n",
        "\n",
        "      for i in range(len(ss)):\n",
        "        # print(i,\" Length: \",len(ss[i]),\" :\",ss[i])\n",
        "        if(ss[i] == ''):\n",
        "          pass\n",
        "        else:\n",
        "          s.append(ss[i])\n",
        "\n",
        "      ns = []\n",
        "      found = False\n",
        "\n",
        "      for i in range(len(s)):\n",
        "        for j in range(len(stopwords)):\n",
        "          if( s[i] == stopwords[j]  ):\n",
        "            found = True\n",
        "\n",
        "        if( found==True ):\n",
        "          found = False\n",
        "        else:\n",
        "          ns.append(s[i])\n",
        "\n",
        "      str1 = ' '.join([elem for elem in ns]) \n",
        "\n",
        "      labels.append(items[0])\n",
        "      sentences.append(str1)\n",
        "\n",
        "      row = csvfile.readline().rstrip('\\n')\n",
        "      \n",
        "      counter += 1\n",
        "    \n",
        "print(len(labels))\n",
        "print(len(sentences))\n",
        "print(sentences[0])\n",
        "# Expected Output\n",
        "# 2225\n",
        "# 2225\n",
        "# tv future hands viewers home theatre systems  plasma high-definition tvs  digital video recorders moving living room  way people watch tv will radically different five years  time.  according expert panel gathered annual consumer electronics show las vegas discuss new technologies will impact one favourite pastimes. us leading trend  programmes content will delivered viewers via home networks  cable  satellite  telecoms companies  broadband service providers front rooms portable devices.  one talked-about technologies ces digital personal video recorders (dvr pvr). set-top boxes  like us s tivo uk s sky+ system  allow people record  store  play  pause forward wind tv programmes want.  essentially  technology allows much personalised tv. also built-in high-definition tv sets  big business japan us  slower take off europe lack high-definition programming. not can people forward wind adverts  can also forget abiding network channel schedules  putting together a-la-carte entertainment. us networks cable satellite companies worried means terms advertising revenues well  brand identity  viewer loyalty channels. although us leads technology moment  also concern raised europe  particularly growing uptake services like sky+.  happens today  will see nine months years  time uk   adam hume  bbc broadcast s futurologist told bbc news website. likes bbc  no issues lost advertising revenue yet. pressing issue moment commercial uk broadcasters  brand loyalty important everyone.  will talking content brands rather network brands   said tim hanlon  brand communications firm starcom mediavest.  reality broadband connections  anybody can producer content.  added:  challenge now hard promote programme much choice.   means  said stacey jolna  senior vice president tv guide tv group  way people find content want watch simplified tv viewers. means networks  us terms  channels take leaf google s book search engine future  instead scheduler help people find want watch. kind channel model might work younger ipod generation used taking control gadgets play them. might not suit everyone  panel recognised. older generations comfortable familiar schedules channel brands know getting. perhaps not want much choice put hands  mr hanlon suggested.  end  kids just diapers pushing buttons already - everything possible available   said mr hanlon.  ultimately  consumer will tell market want.   50 000 new gadgets technologies showcased ces  many enhancing tv-watching experience. high-definition tv sets everywhere many new models lcd (liquid crystal display) tvs launched dvr capability built  instead external boxes. one example launched show humax s 26-inch lcd tv 80-hour tivo dvr dvd recorder. one us s biggest satellite tv companies  directtv  even launched branded dvr show 100-hours recording capability  instant replay  search function. set can pause rewind tv 90 hours. microsoft chief bill gates announced pre-show keynote speech partnership tivo  called tivotogo  means people can play recorded programmes windows pcs mobile devices. reflect increasing trend freeing multimedia people can watch want  want."
      ],
      "execution_count": 4,
      "outputs": [
        {
          "output_type": "stream",
          "text": [
            "2225\n",
            "2225\n",
            "tv future hands viewers home theatre systems plasma high-definition tvs digital video recorders moving living room way people watch tv will radically different five years time. according expert panel gathered annual consumer electronics show las vegas discuss new technologies will impact one favourite pastimes. us leading trend programmes content will delivered viewers via home networks cable satellite telecoms companies broadband service providers front rooms portable devices. one talked-about technologies ces digital personal video recorders (dvr pvr). set-top boxes like us s tivo uk s sky+ system allow people record store play pause forward wind tv programmes want. essentially technology allows much personalised tv. also built-in high-definition tv sets big business japan us slower take off europe lack high-definition programming. not can people forward wind adverts can also forget abiding network channel schedules putting together a-la-carte entertainment. us networks cable satellite companies worried means terms advertising revenues well brand identity viewer loyalty channels. although us leads technology moment also concern raised europe particularly growing uptake services like sky+. happens today will see nine months years time uk adam hume bbc broadcast s futurologist told bbc news website. likes bbc no issues lost advertising revenue yet. pressing issue moment commercial uk broadcasters brand loyalty important everyone. will talking content brands rather network brands said tim hanlon brand communications firm starcom mediavest. reality broadband connections anybody can producer content. added: challenge now hard promote programme much choice. means said stacey jolna senior vice president tv guide tv group way people find content want watch simplified tv viewers. means networks us terms channels take leaf google s book search engine future instead scheduler help people find want watch. kind channel model might work younger ipod generation used taking control gadgets play them. might not suit everyone panel recognised. older generations comfortable familiar schedules channel brands know getting. perhaps not want much choice put hands mr hanlon suggested. end kids just diapers pushing buttons already - everything possible available said mr hanlon. ultimately consumer will tell market want. 50 000 new gadgets technologies showcased ces many enhancing tv-watching experience. high-definition tv sets everywhere many new models lcd (liquid crystal display) tvs launched dvr capability built instead external boxes. one example launched show humax s 26-inch lcd tv 80-hour tivo dvr dvd recorder. one us s biggest satellite tv companies directtv even launched branded dvr show 100-hours recording capability instant replay search function. set can pause rewind tv 90 hours. microsoft chief bill gates announced pre-show keynote speech partnership tivo called tivotogo means people can play recorded programmes windows pcs mobile devices. reflect increasing trend freeing multimedia people can watch want want.\n"
          ],
          "name": "stdout"
        }
      ]
    },
    {
      "cell_type": "code",
      "metadata": {
        "colab_type": "code",
        "id": "XfdaWh06ZGe3",
        "colab": {
          "base_uri": "https://localhost:8080/",
          "height": 102
        },
        "outputId": "2679f2d6-8ebb-448f-e3a8-0aec2dc4136f"
      },
      "source": [
        "train_size =  (len(labels) * 80 )  //  100\n",
        "\n",
        "train_sentences = sentences[ 0 : train_size]\n",
        "train_labels = labels[ 0:train_size ]\n",
        "\n",
        "validation_sentences = sentences[ train_size: ]\n",
        "validation_labels = labels[ train_size: ]\n",
        "\n",
        "print(train_size)\n",
        "print(len(train_sentences))\n",
        "print(len(train_labels))\n",
        "print(len(validation_sentences))\n",
        "print(len(validation_labels))\n",
        "\n",
        "# Expected output (if training_portion=.8)\n",
        "# 1780\n",
        "# 1780\n",
        "# 1780\n",
        "# 445\n",
        "# 445"
      ],
      "execution_count": 12,
      "outputs": [
        {
          "output_type": "stream",
          "text": [
            "1780\n",
            "1780\n",
            "1780\n",
            "445\n",
            "445\n"
          ],
          "name": "stdout"
        }
      ]
    },
    {
      "cell_type": "code",
      "metadata": {
        "id": "Qb4Z_SLMg9Ly",
        "colab_type": "code",
        "colab": {}
      },
      "source": [
        "pad_sequences?"
      ],
      "execution_count": 0,
      "outputs": []
    },
    {
      "cell_type": "code",
      "metadata": {
        "colab_type": "code",
        "id": "ULzA8xhwZI22",
        "colab": {
          "base_uri": "https://localhost:8080/",
          "height": 119
        },
        "outputId": "1ea1c9d4-618f-403b-fd27-06454b0e8f2a"
      },
      "source": [
        "tokenizer = Tokenizer(oov_token = oov_tok, num_words=vocab_size )\n",
        "tokenizer.fit_on_texts( train_sentences)\n",
        "word_index = tokenizer.word_index\n",
        "\n",
        "train_sequences = tokenizer.texts_to_sequences( train_sentences)\n",
        "train_padded = pad_sequences( train_sequences, padding= padding_type, truncating=trunc_type, maxlen=max_length )\n",
        "\n",
        "print(len(train_sequences[0]))\n",
        "print(len(train_padded[0]))\n",
        "\n",
        "print(len(train_sequences[1]))\n",
        "print(len(train_padded[1]))\n",
        "\n",
        "print(len(train_sequences[10]))\n",
        "print(len(train_padded[10]))\n",
        "\n",
        "# Expected Ouput\n",
        "# 449\n",
        "# 120\n",
        "# 200\n",
        "# 120\n",
        "# 192\n",
        "# 120"
      ],
      "execution_count": 20,
      "outputs": [
        {
          "output_type": "stream",
          "text": [
            "449\n",
            "120\n",
            "200\n",
            "120\n",
            "192\n",
            "120\n"
          ],
          "name": "stdout"
        }
      ]
    },
    {
      "cell_type": "code",
      "metadata": {
        "colab_type": "code",
        "id": "c8PeFWzPZLW_",
        "colab": {
          "base_uri": "https://localhost:8080/",
          "height": 51
        },
        "outputId": "3af6b180-5c1c-467d-baaa-25fb295a0ca0"
      },
      "source": [
        "validation_sequences = tokenizer.texts_to_sequences(validation_sentences)\n",
        "validation_padded = pad_sequences( validation_sequences, padding=padding_type, truncating=trunc_type, maxlen=max_length)\n",
        "\n",
        "print(len(validation_sequences))\n",
        "print(validation_padded.shape)\n",
        "\n",
        "# Expected output\n",
        "# 445\n",
        "# (445, 120)"
      ],
      "execution_count": 21,
      "outputs": [
        {
          "output_type": "stream",
          "text": [
            "445\n",
            "(445, 120)\n"
          ],
          "name": "stdout"
        }
      ]
    },
    {
      "cell_type": "code",
      "metadata": {
        "colab_type": "code",
        "id": "XkWiQ_FKZNp2",
        "colab": {
          "base_uri": "https://localhost:8080/",
          "height": 153
        },
        "outputId": "378428de-c137-4b39-cfd3-355b69a848ca"
      },
      "source": [
        "label_tokenizer = Tokenizer()\n",
        "label_tokenizer.fit_on_texts( labels)\n",
        "\n",
        "training_label_seq = np.array ( label_tokenizer.texts_to_sequences( train_labels) )\n",
        "validation_label_seq = np.array ( label_tokenizer.texts_to_sequences( validation_labels) )\n",
        "\n",
        "print(training_label_seq[0])\n",
        "print(training_label_seq[1])\n",
        "print(training_label_seq[2])\n",
        "print(training_label_seq.shape)\n",
        "\n",
        "print(validation_label_seq[0])\n",
        "print(validation_label_seq[1])\n",
        "print(validation_label_seq[2])\n",
        "print(validation_label_seq.shape)\n",
        "\n",
        "# Expected output\n",
        "# [4]\n",
        "# [2]\n",
        "# [1]\n",
        "# (1780, 1)\n",
        "# [5]\n",
        "# [4]\n",
        "# [3]\n",
        "# (445, 1)"
      ],
      "execution_count": 26,
      "outputs": [
        {
          "output_type": "stream",
          "text": [
            "[4]\n",
            "[2]\n",
            "[1]\n",
            "(1780, 1)\n",
            "[5]\n",
            "[4]\n",
            "[3]\n",
            "(445, 1)\n"
          ],
          "name": "stdout"
        }
      ]
    },
    {
      "cell_type": "code",
      "metadata": {
        "colab_type": "code",
        "id": "HZ5um4MWZP-W",
        "colab": {
          "base_uri": "https://localhost:8080/",
          "height": 289
        },
        "outputId": "6f69bad8-8973-4d0e-9de7-0928428849a0"
      },
      "source": [
        "model = tf.keras.Sequential([\n",
        "# YOUR CODE HERE\n",
        "    tf.keras.layers.Embedding(vocab_size, embedding_dim, input_length=max_length),\n",
        "    tf.keras.layers.GlobalAveragePooling1D(),\n",
        "    tf.keras.layers.Dense(24, activation='relu'),\n",
        "    tf.keras.layers.Dense(6, activation='softmax')\n",
        "])\n",
        "model.compile(loss='sparse_categorical_crossentropy',optimizer='adam',metrics=['accuracy'])\n",
        "model.summary()\n",
        "\n",
        "# Expected Output\n",
        "# Layer (type)                 Output Shape              Param #   \n",
        "# =================================================================\n",
        "# embedding (Embedding)        (None, 120, 16)           16000     \n",
        "# _________________________________________________________________\n",
        "# global_average_pooling1d (Gl (None, 16)                0         \n",
        "# _________________________________________________________________\n",
        "# dense (Dense)                (None, 24)                408       \n",
        "# _________________________________________________________________\n",
        "# dense_1 (Dense)              (None, 6)                 150       \n",
        "# =================================================================\n",
        "# Total params: 16,558\n",
        "# Trainable params: 16,558\n",
        "# Non-trainable params: 0"
      ],
      "execution_count": 27,
      "outputs": [
        {
          "output_type": "stream",
          "text": [
            "Model: \"sequential\"\n",
            "_________________________________________________________________\n",
            "Layer (type)                 Output Shape              Param #   \n",
            "=================================================================\n",
            "embedding (Embedding)        (None, 120, 16)           160000    \n",
            "_________________________________________________________________\n",
            "global_average_pooling1d (Gl (None, 16)                0         \n",
            "_________________________________________________________________\n",
            "dense (Dense)                (None, 24)                408       \n",
            "_________________________________________________________________\n",
            "dense_1 (Dense)              (None, 6)                 150       \n",
            "=================================================================\n",
            "Total params: 160,558\n",
            "Trainable params: 160,558\n",
            "Non-trainable params: 0\n",
            "_________________________________________________________________\n"
          ],
          "name": "stdout"
        }
      ]
    },
    {
      "cell_type": "code",
      "metadata": {
        "colab_type": "code",
        "id": "XsfdxySKZSXu",
        "colab": {
          "base_uri": "https://localhost:8080/",
          "height": 1000
        },
        "outputId": "18b52467-5613-4081-a279-1fdb20060f11"
      },
      "source": [
        "num_epochs = 30\n",
        "history = model.fit(train_padded, training_label_seq, epochs=num_epochs, validation_data=(validation_padded, validation_label_seq), verbose=2)"
      ],
      "execution_count": 28,
      "outputs": [
        {
          "output_type": "stream",
          "text": [
            "Epoch 1/30\n",
            "56/56 - 0s - loss: 1.7614 - accuracy: 0.4421 - val_loss: 1.7202 - val_accuracy: 0.5258\n",
            "Epoch 2/30\n",
            "56/56 - 0s - loss: 1.6459 - accuracy: 0.5584 - val_loss: 1.5621 - val_accuracy: 0.5843\n",
            "Epoch 3/30\n",
            "56/56 - 0s - loss: 1.4129 - accuracy: 0.6253 - val_loss: 1.2942 - val_accuracy: 0.6539\n",
            "Epoch 4/30\n",
            "56/56 - 0s - loss: 1.1056 - accuracy: 0.7146 - val_loss: 1.0156 - val_accuracy: 0.7551\n",
            "Epoch 5/30\n",
            "56/56 - 0s - loss: 0.8310 - accuracy: 0.8298 - val_loss: 0.7943 - val_accuracy: 0.8449\n",
            "Epoch 6/30\n",
            "56/56 - 0s - loss: 0.6099 - accuracy: 0.9287 - val_loss: 0.6203 - val_accuracy: 0.9011\n",
            "Epoch 7/30\n",
            "56/56 - 0s - loss: 0.4385 - accuracy: 0.9685 - val_loss: 0.4913 - val_accuracy: 0.9169\n",
            "Epoch 8/30\n",
            "56/56 - 0s - loss: 0.3110 - accuracy: 0.9798 - val_loss: 0.3956 - val_accuracy: 0.9236\n",
            "Epoch 9/30\n",
            "56/56 - 0s - loss: 0.2191 - accuracy: 0.9882 - val_loss: 0.3321 - val_accuracy: 0.9281\n",
            "Epoch 10/30\n",
            "56/56 - 0s - loss: 0.1559 - accuracy: 0.9904 - val_loss: 0.2837 - val_accuracy: 0.9371\n",
            "Epoch 11/30\n",
            "56/56 - 0s - loss: 0.1119 - accuracy: 0.9933 - val_loss: 0.2474 - val_accuracy: 0.9393\n",
            "Epoch 12/30\n",
            "56/56 - 0s - loss: 0.0799 - accuracy: 0.9966 - val_loss: 0.2227 - val_accuracy: 0.9393\n",
            "Epoch 13/30\n",
            "56/56 - 0s - loss: 0.0582 - accuracy: 0.9983 - val_loss: 0.2045 - val_accuracy: 0.9438\n",
            "Epoch 14/30\n",
            "56/56 - 0s - loss: 0.0439 - accuracy: 0.9983 - val_loss: 0.1940 - val_accuracy: 0.9438\n",
            "Epoch 15/30\n",
            "56/56 - 0s - loss: 0.0343 - accuracy: 0.9989 - val_loss: 0.1843 - val_accuracy: 0.9438\n",
            "Epoch 16/30\n",
            "56/56 - 0s - loss: 0.0272 - accuracy: 1.0000 - val_loss: 0.1779 - val_accuracy: 0.9461\n",
            "Epoch 17/30\n",
            "56/56 - 0s - loss: 0.0222 - accuracy: 1.0000 - val_loss: 0.1717 - val_accuracy: 0.9483\n",
            "Epoch 18/30\n",
            "56/56 - 0s - loss: 0.0182 - accuracy: 1.0000 - val_loss: 0.1679 - val_accuracy: 0.9506\n",
            "Epoch 19/30\n",
            "56/56 - 0s - loss: 0.0155 - accuracy: 1.0000 - val_loss: 0.1644 - val_accuracy: 0.9551\n",
            "Epoch 20/30\n",
            "56/56 - 0s - loss: 0.0131 - accuracy: 1.0000 - val_loss: 0.1625 - val_accuracy: 0.9551\n",
            "Epoch 21/30\n",
            "56/56 - 0s - loss: 0.0112 - accuracy: 1.0000 - val_loss: 0.1601 - val_accuracy: 0.9551\n",
            "Epoch 22/30\n",
            "56/56 - 0s - loss: 0.0097 - accuracy: 1.0000 - val_loss: 0.1587 - val_accuracy: 0.9551\n",
            "Epoch 23/30\n",
            "56/56 - 0s - loss: 0.0085 - accuracy: 1.0000 - val_loss: 0.1568 - val_accuracy: 0.9551\n",
            "Epoch 24/30\n",
            "56/56 - 0s - loss: 0.0074 - accuracy: 1.0000 - val_loss: 0.1558 - val_accuracy: 0.9551\n",
            "Epoch 25/30\n",
            "56/56 - 0s - loss: 0.0066 - accuracy: 1.0000 - val_loss: 0.1546 - val_accuracy: 0.9551\n",
            "Epoch 26/30\n",
            "56/56 - 0s - loss: 0.0058 - accuracy: 1.0000 - val_loss: 0.1539 - val_accuracy: 0.9551\n",
            "Epoch 27/30\n",
            "56/56 - 0s - loss: 0.0052 - accuracy: 1.0000 - val_loss: 0.1529 - val_accuracy: 0.9551\n",
            "Epoch 28/30\n",
            "56/56 - 0s - loss: 0.0047 - accuracy: 1.0000 - val_loss: 0.1528 - val_accuracy: 0.9551\n",
            "Epoch 29/30\n",
            "56/56 - 0s - loss: 0.0043 - accuracy: 1.0000 - val_loss: 0.1521 - val_accuracy: 0.9551\n",
            "Epoch 30/30\n",
            "56/56 - 0s - loss: 0.0039 - accuracy: 1.0000 - val_loss: 0.1516 - val_accuracy: 0.9551\n"
          ],
          "name": "stdout"
        }
      ]
    },
    {
      "cell_type": "code",
      "metadata": {
        "colab_type": "code",
        "id": "dQ0BX2apXS9u",
        "colab": {
          "base_uri": "https://localhost:8080/",
          "height": 541
        },
        "outputId": "645ae313-1aa4-4084-c5a9-b547504d064d"
      },
      "source": [
        "import matplotlib.pyplot as plt\n",
        "\n",
        "\n",
        "def plot_graphs(history, string):\n",
        "  plt.plot(history.history['accuracy'])\n",
        "  plt.plot(history.history['val_accuracy'])\n",
        "  plt.xlabel(\"Epochs\")\n",
        "  plt.ylabel(string)\n",
        "  plt.legend([string, 'val_accuracy'])\n",
        "  plt.show()\n",
        "  \n",
        "plot_graphs(history, \"acc\")\n",
        "plot_graphs(history, \"loss\")"
      ],
      "execution_count": 33,
      "outputs": [
        {
          "output_type": "display_data",
          "data": {
            "image/png": "[encoded data removed]",
            "text/plain": [
              "<Figure size 432x288 with 1 Axes>"
            ]
          },
          "metadata": {
            "tags": []
          }
        },
        {
          "output_type": "display_data",
          "data": {
            "image/png": "[encoded data removed]",
            "text/plain": [
              "<Figure size 432x288 with 1 Axes>"
            ]
          },
          "metadata": {
            "tags": []
          }
        }
      ]
    },
    {
      "cell_type": "code",
      "metadata": {
        "colab_type": "code",
        "id": "w7Xc-uWxXhML",
        "colab": {}
      },
      "source": [
        "reverse_word_index = dict([(value, key) for (key, value) in word_index.items()])\n",
        "\n",
        "def decode_sentence(text):\n",
        "    return ' '.join([reverse_word_index.get(i, '?') for i in text])\n"
      ],
      "execution_count": 0,
      "outputs": []
    },
    {
      "cell_type": "code",
      "metadata": {
        "colab_type": "code",
        "id": "OhnFA_TDXrih",
        "colab": {
          "base_uri": "https://localhost:8080/",
          "height": 34
        },
        "outputId": "8e4fdac0-666e-4cfc-bda7-c43b6c9c72e1"
      },
      "source": [
        "e = model.layers[0]\n",
        "weights = e.get_weights()[0]\n",
        "print(weights.shape) # shape: (vocab_size, embedding_dim)\n",
        "\n",
        "# Expected output\n",
        "# (1000, 16)"
      ],
      "execution_count": 35,
      "outputs": [
        {
          "output_type": "stream",
          "text": [
            "(10000, 16)\n"
          ],
          "name": "stdout"
        }
      ]
    },
    {
      "cell_type": "code",
      "metadata": {
        "colab_type": "code",
        "id": "_POzcWWAXudL",
        "colab": {}
      },
      "source": [
        "import io\n",
        "\n",
        "out_v = io.open('vecs.tsv', 'w', encoding='utf-8')\n",
        "out_m = io.open('meta.tsv', 'w', encoding='utf-8')\n",
        "for word_num in range(1, vocab_size):\n",
        "  word = reverse_word_index[word_num]\n",
        "  embeddings = weights[word_num]\n",
        "  out_m.write(word + \"\\n\")\n",
        "  out_v.write('\\t'.join([str(x) for x in embeddings]) + \"\\n\")\n",
        "out_v.close()\n",
        "out_m.close()"
      ],
      "execution_count": 0,
      "outputs": []
    },
    {
      "cell_type": "code",
      "metadata": {
        "colab_type": "code",
        "id": "VmqpQMZ_XyOa",
        "colab": {}
      },
      "source": [
        "try:\n",
        "  from google.colab import files\n",
        "except ImportError:\n",
        "  pass\n",
        "else:\n",
        "  files.download('vecs.tsv')\n",
        "  files.download('meta.tsv')"
      ],
      "execution_count": 0,
      "outputs": []
    }
  ]
}